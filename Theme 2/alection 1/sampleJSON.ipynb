{
 "cells": [
  {
   "cell_type": "code",
   "execution_count": 1,
   "id": "265595e3",
   "metadata": {},
   "outputs": [
    {
     "name": "stdout",
     "output_type": "stream",
     "text": [
      "Іван Петренко навчається на факультеті Інформатика\n",
      "Марія Іваненко навчається на факультеті Економіка\n"
     ]
    }
   ],
   "source": [
    "import json\n",
    "\n",
    "# JSON як рядок\n",
    "data_json = '''\n",
    "{\n",
    "  \"students\": [\n",
    "    {\"id\": 1, \"name\": \"Іван Петренко\", \"age\": 21, \"faculty\": \"Інформатика\"},\n",
    "    {\"id\": 2, \"name\": \"Марія Іваненко\", \"age\": 22, \"faculty\": \"Економіка\"}\n",
    "  ]\n",
    "}\n",
    "'''\n",
    "\n",
    "# Перетворення у Python-об’єкт (словник)\n",
    "data = json.loads(data_json)\n",
    "\n",
    "# Доступ до даних\n",
    "for student in data[\"students\"]:\n",
    "    print(f\"{student['name']} навчається на факультеті {student['faculty']}\")\n"
   ]
  }
 ],
 "metadata": {
  "kernelspec": {
   "display_name": "Python 3",
   "language": "python",
   "name": "python3"
  },
  "language_info": {
   "codemirror_mode": {
    "name": "ipython",
    "version": 3
   },
   "file_extension": ".py",
   "mimetype": "text/x-python",
   "name": "python",
   "nbconvert_exporter": "python",
   "pygments_lexer": "ipython3",
   "version": "3.11.9"
  }
 },
 "nbformat": 4,
 "nbformat_minor": 5
}
