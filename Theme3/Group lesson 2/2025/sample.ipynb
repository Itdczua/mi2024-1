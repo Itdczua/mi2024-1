{
 "cells": [
  {
   "cell_type": "markdown",
   "id": "2d5d0aa9",
   "metadata": {},
   "source": [
    "### EDA for Student Performance"
   ]
  },
  {
   "cell_type": "code",
   "execution_count": null,
   "id": "ae0f0a45",
   "metadata": {},
   "outputs": [],
   "source": [
    "# %pip install pandas numpy matplotlib seaborn"
   ]
  },
  {
   "cell_type": "code",
   "execution_count": 1,
   "id": "94b3c583",
   "metadata": {},
   "outputs": [],
   "source": [
    "# Import necessary libraries\n",
    "import pandas as pd\n",
    "import numpy as np\n",
    "import matplotlib.pyplot as plt\n",
    "import seaborn as sns\n",
    "\n"
   ]
  },
  {
   "cell_type": "code",
   "execution_count": 2,
   "id": "0cfb5a32",
   "metadata": {},
   "outputs": [],
   "source": [
    "# Load the dataset\n",
    "df = pd.read_csv('StudentPerformanceFactors.csv')"
   ]
  },
  {
   "cell_type": "code",
   "execution_count": 3,
   "id": "cf0fb7a6",
   "metadata": {},
   "outputs": [
    {
     "data": {
      "text/html": [
       "<div>\n",
       "<style scoped>\n",
       "    .dataframe tbody tr th:only-of-type {\n",
       "        vertical-align: middle;\n",
       "    }\n",
       "\n",
       "    .dataframe tbody tr th {\n",
       "        vertical-align: top;\n",
       "    }\n",
       "\n",
       "    .dataframe thead th {\n",
       "        text-align: right;\n",
       "    }\n",
       "</style>\n",
       "<table border=\"1\" class=\"dataframe\">\n",
       "  <thead>\n",
       "    <tr style=\"text-align: right;\">\n",
       "      <th></th>\n",
       "      <th>Hours_Studied</th>\n",
       "      <th>Attendance</th>\n",
       "      <th>Parental_Involvement</th>\n",
       "      <th>Access_to_Resources</th>\n",
       "      <th>Extracurricular_Activities</th>\n",
       "      <th>Sleep_Hours</th>\n",
       "      <th>Previous_Scores</th>\n",
       "      <th>Motivation_Level</th>\n",
       "      <th>Internet_Access</th>\n",
       "      <th>Tutoring_Sessions</th>\n",
       "      <th>Family_Income</th>\n",
       "      <th>Teacher_Quality</th>\n",
       "      <th>School_Type</th>\n",
       "      <th>Peer_Influence</th>\n",
       "      <th>Physical_Activity</th>\n",
       "      <th>Learning_Disabilities</th>\n",
       "      <th>Parental_Education_Level</th>\n",
       "      <th>Distance_from_Home</th>\n",
       "      <th>Gender</th>\n",
       "      <th>Exam_Score</th>\n",
       "    </tr>\n",
       "  </thead>\n",
       "  <tbody>\n",
       "    <tr>\n",
       "      <th>0</th>\n",
       "      <td>23</td>\n",
       "      <td>84</td>\n",
       "      <td>Low</td>\n",
       "      <td>High</td>\n",
       "      <td>No</td>\n",
       "      <td>7</td>\n",
       "      <td>73</td>\n",
       "      <td>Low</td>\n",
       "      <td>Yes</td>\n",
       "      <td>0</td>\n",
       "      <td>Low</td>\n",
       "      <td>Medium</td>\n",
       "      <td>Public</td>\n",
       "      <td>Positive</td>\n",
       "      <td>3</td>\n",
       "      <td>No</td>\n",
       "      <td>High School</td>\n",
       "      <td>Near</td>\n",
       "      <td>Male</td>\n",
       "      <td>67</td>\n",
       "    </tr>\n",
       "    <tr>\n",
       "      <th>1</th>\n",
       "      <td>19</td>\n",
       "      <td>64</td>\n",
       "      <td>Low</td>\n",
       "      <td>Medium</td>\n",
       "      <td>No</td>\n",
       "      <td>8</td>\n",
       "      <td>59</td>\n",
       "      <td>Low</td>\n",
       "      <td>Yes</td>\n",
       "      <td>2</td>\n",
       "      <td>Medium</td>\n",
       "      <td>Medium</td>\n",
       "      <td>Public</td>\n",
       "      <td>Negative</td>\n",
       "      <td>4</td>\n",
       "      <td>No</td>\n",
       "      <td>College</td>\n",
       "      <td>Moderate</td>\n",
       "      <td>Female</td>\n",
       "      <td>61</td>\n",
       "    </tr>\n",
       "    <tr>\n",
       "      <th>2</th>\n",
       "      <td>24</td>\n",
       "      <td>98</td>\n",
       "      <td>Medium</td>\n",
       "      <td>Medium</td>\n",
       "      <td>Yes</td>\n",
       "      <td>7</td>\n",
       "      <td>91</td>\n",
       "      <td>Medium</td>\n",
       "      <td>Yes</td>\n",
       "      <td>2</td>\n",
       "      <td>Medium</td>\n",
       "      <td>Medium</td>\n",
       "      <td>Public</td>\n",
       "      <td>Neutral</td>\n",
       "      <td>4</td>\n",
       "      <td>No</td>\n",
       "      <td>Postgraduate</td>\n",
       "      <td>Near</td>\n",
       "      <td>Male</td>\n",
       "      <td>74</td>\n",
       "    </tr>\n",
       "    <tr>\n",
       "      <th>3</th>\n",
       "      <td>29</td>\n",
       "      <td>89</td>\n",
       "      <td>Low</td>\n",
       "      <td>Medium</td>\n",
       "      <td>Yes</td>\n",
       "      <td>8</td>\n",
       "      <td>98</td>\n",
       "      <td>Medium</td>\n",
       "      <td>Yes</td>\n",
       "      <td>1</td>\n",
       "      <td>Medium</td>\n",
       "      <td>Medium</td>\n",
       "      <td>Public</td>\n",
       "      <td>Negative</td>\n",
       "      <td>4</td>\n",
       "      <td>No</td>\n",
       "      <td>High School</td>\n",
       "      <td>Moderate</td>\n",
       "      <td>Male</td>\n",
       "      <td>71</td>\n",
       "    </tr>\n",
       "    <tr>\n",
       "      <th>4</th>\n",
       "      <td>19</td>\n",
       "      <td>92</td>\n",
       "      <td>Medium</td>\n",
       "      <td>Medium</td>\n",
       "      <td>Yes</td>\n",
       "      <td>6</td>\n",
       "      <td>65</td>\n",
       "      <td>Medium</td>\n",
       "      <td>Yes</td>\n",
       "      <td>3</td>\n",
       "      <td>Medium</td>\n",
       "      <td>High</td>\n",
       "      <td>Public</td>\n",
       "      <td>Neutral</td>\n",
       "      <td>4</td>\n",
       "      <td>No</td>\n",
       "      <td>College</td>\n",
       "      <td>Near</td>\n",
       "      <td>Female</td>\n",
       "      <td>70</td>\n",
       "    </tr>\n",
       "  </tbody>\n",
       "</table>\n",
       "</div>"
      ],
      "text/plain": [
       "   Hours_Studied  Attendance Parental_Involvement Access_to_Resources  \\\n",
       "0             23          84                  Low                High   \n",
       "1             19          64                  Low              Medium   \n",
       "2             24          98               Medium              Medium   \n",
       "3             29          89                  Low              Medium   \n",
       "4             19          92               Medium              Medium   \n",
       "\n",
       "  Extracurricular_Activities  Sleep_Hours  Previous_Scores Motivation_Level  \\\n",
       "0                         No            7               73              Low   \n",
       "1                         No            8               59              Low   \n",
       "2                        Yes            7               91           Medium   \n",
       "3                        Yes            8               98           Medium   \n",
       "4                        Yes            6               65           Medium   \n",
       "\n",
       "  Internet_Access  Tutoring_Sessions Family_Income Teacher_Quality  \\\n",
       "0             Yes                  0           Low          Medium   \n",
       "1             Yes                  2        Medium          Medium   \n",
       "2             Yes                  2        Medium          Medium   \n",
       "3             Yes                  1        Medium          Medium   \n",
       "4             Yes                  3        Medium            High   \n",
       "\n",
       "  School_Type Peer_Influence  Physical_Activity Learning_Disabilities  \\\n",
       "0      Public       Positive                  3                    No   \n",
       "1      Public       Negative                  4                    No   \n",
       "2      Public        Neutral                  4                    No   \n",
       "3      Public       Negative                  4                    No   \n",
       "4      Public        Neutral                  4                    No   \n",
       "\n",
       "  Parental_Education_Level Distance_from_Home  Gender  Exam_Score  \n",
       "0              High School               Near    Male          67  \n",
       "1                  College           Moderate  Female          61  \n",
       "2             Postgraduate               Near    Male          74  \n",
       "3              High School           Moderate    Male          71  \n",
       "4                  College               Near  Female          70  "
      ]
     },
     "execution_count": 3,
     "metadata": {},
     "output_type": "execute_result"
    }
   ],
   "source": [
    "# Display the first few rows of the dataset\n",
    "df.head()"
   ]
  },
  {
   "cell_type": "code",
   "execution_count": 4,
   "id": "b8be2242",
   "metadata": {},
   "outputs": [
    {
     "data": {
      "text/plain": [
       "Index(['Hours_Studied', 'Attendance', 'Parental_Involvement',\n",
       "       'Access_to_Resources', 'Extracurricular_Activities', 'Sleep_Hours',\n",
       "       'Previous_Scores', 'Motivation_Level', 'Internet_Access',\n",
       "       'Tutoring_Sessions', 'Family_Income', 'Teacher_Quality', 'School_Type',\n",
       "       'Peer_Influence', 'Physical_Activity', 'Learning_Disabilities',\n",
       "       'Parental_Education_Level', 'Distance_from_Home', 'Gender',\n",
       "       'Exam_Score'],\n",
       "      dtype='object')"
      ]
     },
     "execution_count": 4,
     "metadata": {},
     "output_type": "execute_result"
    }
   ],
   "source": [
    "#Columns names\n",
    "df.columns"
   ]
  },
  {
   "cell_type": "code",
   "execution_count": 5,
   "id": "95e7d960",
   "metadata": {},
   "outputs": [
    {
     "name": "stdout",
     "output_type": "stream",
     "text": [
      "<class 'pandas.core.frame.DataFrame'>\n",
      "RangeIndex: 6607 entries, 0 to 6606\n",
      "Data columns (total 20 columns):\n",
      " #   Column                      Non-Null Count  Dtype \n",
      "---  ------                      --------------  ----- \n",
      " 0   Hours_Studied               6607 non-null   int64 \n",
      " 1   Attendance                  6607 non-null   int64 \n",
      " 2   Parental_Involvement        6607 non-null   object\n",
      " 3   Access_to_Resources         6607 non-null   object\n",
      " 4   Extracurricular_Activities  6607 non-null   object\n",
      " 5   Sleep_Hours                 6607 non-null   int64 \n",
      " 6   Previous_Scores             6607 non-null   int64 \n",
      " 7   Motivation_Level            6607 non-null   object\n",
      " 8   Internet_Access             6607 non-null   object\n",
      " 9   Tutoring_Sessions           6607 non-null   int64 \n",
      " 10  Family_Income               6607 non-null   object\n",
      " 11  Teacher_Quality             6529 non-null   object\n",
      " 12  School_Type                 6607 non-null   object\n",
      " 13  Peer_Influence              6607 non-null   object\n",
      " 14  Physical_Activity           6607 non-null   int64 \n",
      " 15  Learning_Disabilities       6607 non-null   object\n",
      " 16  Parental_Education_Level    6517 non-null   object\n",
      " 17  Distance_from_Home          6540 non-null   object\n",
      " 18  Gender                      6607 non-null   object\n",
      " 19  Exam_Score                  6607 non-null   int64 \n",
      "dtypes: int64(7), object(13)\n",
      "memory usage: 1.0+ MB\n"
     ]
    }
   ],
   "source": [
    "# Basic information about the dataset\n",
    "df.info()"
   ]
  },
  {
   "cell_type": "code",
   "execution_count": 7,
   "id": "6f18fb7c",
   "metadata": {},
   "outputs": [
    {
     "data": {
      "text/html": [
       "<div>\n",
       "<style scoped>\n",
       "    .dataframe tbody tr th:only-of-type {\n",
       "        vertical-align: middle;\n",
       "    }\n",
       "\n",
       "    .dataframe tbody tr th {\n",
       "        vertical-align: top;\n",
       "    }\n",
       "\n",
       "    .dataframe thead th {\n",
       "        text-align: right;\n",
       "    }\n",
       "</style>\n",
       "<table border=\"1\" class=\"dataframe\">\n",
       "  <thead>\n",
       "    <tr style=\"text-align: right;\">\n",
       "      <th></th>\n",
       "      <th>Hours_Studied</th>\n",
       "      <th>Attendance</th>\n",
       "      <th>Sleep_Hours</th>\n",
       "      <th>Previous_Scores</th>\n",
       "      <th>Tutoring_Sessions</th>\n",
       "      <th>Physical_Activity</th>\n",
       "      <th>Exam_Score</th>\n",
       "    </tr>\n",
       "  </thead>\n",
       "  <tbody>\n",
       "    <tr>\n",
       "      <th>count</th>\n",
       "      <td>6607.000000</td>\n",
       "      <td>6607.000000</td>\n",
       "      <td>6607.00000</td>\n",
       "      <td>6607.000000</td>\n",
       "      <td>6607.000000</td>\n",
       "      <td>6607.000000</td>\n",
       "      <td>6607.000000</td>\n",
       "    </tr>\n",
       "    <tr>\n",
       "      <th>mean</th>\n",
       "      <td>19.975329</td>\n",
       "      <td>79.977448</td>\n",
       "      <td>7.02906</td>\n",
       "      <td>75.070531</td>\n",
       "      <td>1.493719</td>\n",
       "      <td>2.967610</td>\n",
       "      <td>67.235659</td>\n",
       "    </tr>\n",
       "    <tr>\n",
       "      <th>std</th>\n",
       "      <td>5.990594</td>\n",
       "      <td>11.547475</td>\n",
       "      <td>1.46812</td>\n",
       "      <td>14.399784</td>\n",
       "      <td>1.230570</td>\n",
       "      <td>1.031231</td>\n",
       "      <td>3.890456</td>\n",
       "    </tr>\n",
       "    <tr>\n",
       "      <th>min</th>\n",
       "      <td>1.000000</td>\n",
       "      <td>60.000000</td>\n",
       "      <td>4.00000</td>\n",
       "      <td>50.000000</td>\n",
       "      <td>0.000000</td>\n",
       "      <td>0.000000</td>\n",
       "      <td>55.000000</td>\n",
       "    </tr>\n",
       "    <tr>\n",
       "      <th>25%</th>\n",
       "      <td>16.000000</td>\n",
       "      <td>70.000000</td>\n",
       "      <td>6.00000</td>\n",
       "      <td>63.000000</td>\n",
       "      <td>1.000000</td>\n",
       "      <td>2.000000</td>\n",
       "      <td>65.000000</td>\n",
       "    </tr>\n",
       "    <tr>\n",
       "      <th>50%</th>\n",
       "      <td>20.000000</td>\n",
       "      <td>80.000000</td>\n",
       "      <td>7.00000</td>\n",
       "      <td>75.000000</td>\n",
       "      <td>1.000000</td>\n",
       "      <td>3.000000</td>\n",
       "      <td>67.000000</td>\n",
       "    </tr>\n",
       "    <tr>\n",
       "      <th>75%</th>\n",
       "      <td>24.000000</td>\n",
       "      <td>90.000000</td>\n",
       "      <td>8.00000</td>\n",
       "      <td>88.000000</td>\n",
       "      <td>2.000000</td>\n",
       "      <td>4.000000</td>\n",
       "      <td>69.000000</td>\n",
       "    </tr>\n",
       "    <tr>\n",
       "      <th>max</th>\n",
       "      <td>44.000000</td>\n",
       "      <td>100.000000</td>\n",
       "      <td>10.00000</td>\n",
       "      <td>100.000000</td>\n",
       "      <td>8.000000</td>\n",
       "      <td>6.000000</td>\n",
       "      <td>101.000000</td>\n",
       "    </tr>\n",
       "  </tbody>\n",
       "</table>\n",
       "</div>"
      ],
      "text/plain": [
       "       Hours_Studied   Attendance  Sleep_Hours  Previous_Scores  \\\n",
       "count    6607.000000  6607.000000   6607.00000      6607.000000   \n",
       "mean       19.975329    79.977448      7.02906        75.070531   \n",
       "std         5.990594    11.547475      1.46812        14.399784   \n",
       "min         1.000000    60.000000      4.00000        50.000000   \n",
       "25%        16.000000    70.000000      6.00000        63.000000   \n",
       "50%        20.000000    80.000000      7.00000        75.000000   \n",
       "75%        24.000000    90.000000      8.00000        88.000000   \n",
       "max        44.000000   100.000000     10.00000       100.000000   \n",
       "\n",
       "       Tutoring_Sessions  Physical_Activity   Exam_Score  \n",
       "count        6607.000000        6607.000000  6607.000000  \n",
       "mean            1.493719           2.967610    67.235659  \n",
       "std             1.230570           1.031231     3.890456  \n",
       "min             0.000000           0.000000    55.000000  \n",
       "25%             1.000000           2.000000    65.000000  \n",
       "50%             1.000000           3.000000    67.000000  \n",
       "75%             2.000000           4.000000    69.000000  \n",
       "max             8.000000           6.000000   101.000000  "
      ]
     },
     "execution_count": 7,
     "metadata": {},
     "output_type": "execute_result"
    }
   ],
   "source": [
    "\n",
    "df.describe()"
   ]
  },
  {
   "cell_type": "code",
   "execution_count": 9,
   "id": "339d3234",
   "metadata": {},
   "outputs": [
    {
     "data": {
      "text/plain": [
       "True"
      ]
     },
     "execution_count": 9,
     "metadata": {},
     "output_type": "execute_result"
    }
   ],
   "source": [
    "# Optional statistical tests\n",
    "try:\n",
    "    from scipy import stats\n",
    "    SCIPY_AVAILABLE = True\n",
    "except Exception:\n",
    "    SCIPY_AVAILABLE = False\n",
    "\n",
    "\n",
    "SCIPY_AVAILABLE"
   ]
  },
  {
   "cell_type": "code",
   "execution_count": 10,
   "id": "b5974f5a",
   "metadata": {},
   "outputs": [
    {
     "name": "stdout",
     "output_type": "stream",
     "text": [
      "The dataset contains 6607 rows and 20 columns.\n"
     ]
    }
   ],
   "source": [
    "n_rows, n_cols = df.shape\n",
    "\n",
    "print(f'The dataset contains {n_rows} rows and {n_cols} columns.')"
   ]
  },
  {
   "cell_type": "code",
   "execution_count": 16,
   "id": "689577f0",
   "metadata": {},
   "outputs": [],
   "source": [
    "# %% 3) Missing values profile\n",
    "missing_counts = df.isna().sum().sort_values(ascending=False)\n",
    "missing_counts=missing_counts[missing_counts > 0]\n",
    "missing_pct = (missing_counts / len(df) * 100).round(2)\n",
    "\n",
    "missing_table = pd.DataFrame({\n",
    "    \"missing_count\": missing_counts,\n",
    "    \"missing_pct\": missing_pct\n",
    "})"
   ]
  },
  {
   "cell_type": "code",
   "execution_count": 17,
   "id": "3299406c",
   "metadata": {},
   "outputs": [
    {
     "data": {
      "text/plain": [
       "Parental_Education_Level    90\n",
       "Teacher_Quality             78\n",
       "Distance_from_Home          67\n",
       "dtype: int64"
      ]
     },
     "execution_count": 17,
     "metadata": {},
     "output_type": "execute_result"
    }
   ],
   "source": [
    "missing_counts"
   ]
  },
  {
   "cell_type": "code",
   "execution_count": 18,
   "id": "67895129",
   "metadata": {},
   "outputs": [
    {
     "data": {
      "text/plain": [
       "Parental_Education_Level    1.36\n",
       "Teacher_Quality             1.18\n",
       "Distance_from_Home          1.01\n",
       "dtype: float64"
      ]
     },
     "execution_count": 18,
     "metadata": {},
     "output_type": "execute_result"
    }
   ],
   "source": [
    "missing_pct"
   ]
  },
  {
   "cell_type": "code",
   "execution_count": 19,
   "id": "a6251613",
   "metadata": {},
   "outputs": [
    {
     "data": {
      "text/html": [
       "<div>\n",
       "<style scoped>\n",
       "    .dataframe tbody tr th:only-of-type {\n",
       "        vertical-align: middle;\n",
       "    }\n",
       "\n",
       "    .dataframe tbody tr th {\n",
       "        vertical-align: top;\n",
       "    }\n",
       "\n",
       "    .dataframe thead th {\n",
       "        text-align: right;\n",
       "    }\n",
       "</style>\n",
       "<table border=\"1\" class=\"dataframe\">\n",
       "  <thead>\n",
       "    <tr style=\"text-align: right;\">\n",
       "      <th></th>\n",
       "      <th>missing_count</th>\n",
       "      <th>missing_pct</th>\n",
       "    </tr>\n",
       "  </thead>\n",
       "  <tbody>\n",
       "    <tr>\n",
       "      <th>Parental_Education_Level</th>\n",
       "      <td>90</td>\n",
       "      <td>1.36</td>\n",
       "    </tr>\n",
       "    <tr>\n",
       "      <th>Teacher_Quality</th>\n",
       "      <td>78</td>\n",
       "      <td>1.18</td>\n",
       "    </tr>\n",
       "    <tr>\n",
       "      <th>Distance_from_Home</th>\n",
       "      <td>67</td>\n",
       "      <td>1.01</td>\n",
       "    </tr>\n",
       "  </tbody>\n",
       "</table>\n",
       "</div>"
      ],
      "text/plain": [
       "                          missing_count  missing_pct\n",
       "Parental_Education_Level             90         1.36\n",
       "Teacher_Quality                      78         1.18\n",
       "Distance_from_Home                   67         1.01"
      ]
     },
     "execution_count": 19,
     "metadata": {},
     "output_type": "execute_result"
    }
   ],
   "source": [
    "missing_table"
   ]
  },
  {
   "cell_type": "code",
   "execution_count": 21,
   "id": "d9491a48",
   "metadata": {},
   "outputs": [],
   "source": [
    "# %% 4) Unique values by column\n",
    "unique_counts = df.nunique(dropna=False).sort_values(ascending=False)\n",
    "unique_table = pd.DataFrame({\"unique_values\": unique_counts})"
   ]
  },
  {
   "cell_type": "code",
   "execution_count": 22,
   "id": "ef99d915",
   "metadata": {},
   "outputs": [
    {
     "data": {
      "text/html": [
       "<div>\n",
       "<style scoped>\n",
       "    .dataframe tbody tr th:only-of-type {\n",
       "        vertical-align: middle;\n",
       "    }\n",
       "\n",
       "    .dataframe tbody tr th {\n",
       "        vertical-align: top;\n",
       "    }\n",
       "\n",
       "    .dataframe thead th {\n",
       "        text-align: right;\n",
       "    }\n",
       "</style>\n",
       "<table border=\"1\" class=\"dataframe\">\n",
       "  <thead>\n",
       "    <tr style=\"text-align: right;\">\n",
       "      <th></th>\n",
       "      <th>unique_values</th>\n",
       "    </tr>\n",
       "  </thead>\n",
       "  <tbody>\n",
       "    <tr>\n",
       "      <th>Previous_Scores</th>\n",
       "      <td>51</td>\n",
       "    </tr>\n",
       "    <tr>\n",
       "      <th>Exam_Score</th>\n",
       "      <td>45</td>\n",
       "    </tr>\n",
       "    <tr>\n",
       "      <th>Attendance</th>\n",
       "      <td>41</td>\n",
       "    </tr>\n",
       "    <tr>\n",
       "      <th>Hours_Studied</th>\n",
       "      <td>41</td>\n",
       "    </tr>\n",
       "    <tr>\n",
       "      <th>Tutoring_Sessions</th>\n",
       "      <td>9</td>\n",
       "    </tr>\n",
       "    <tr>\n",
       "      <th>Sleep_Hours</th>\n",
       "      <td>7</td>\n",
       "    </tr>\n",
       "    <tr>\n",
       "      <th>Physical_Activity</th>\n",
       "      <td>7</td>\n",
       "    </tr>\n",
       "    <tr>\n",
       "      <th>Teacher_Quality</th>\n",
       "      <td>4</td>\n",
       "    </tr>\n",
       "    <tr>\n",
       "      <th>Parental_Education_Level</th>\n",
       "      <td>4</td>\n",
       "    </tr>\n",
       "    <tr>\n",
       "      <th>Distance_from_Home</th>\n",
       "      <td>4</td>\n",
       "    </tr>\n",
       "    <tr>\n",
       "      <th>Access_to_Resources</th>\n",
       "      <td>3</td>\n",
       "    </tr>\n",
       "    <tr>\n",
       "      <th>Motivation_Level</th>\n",
       "      <td>3</td>\n",
       "    </tr>\n",
       "    <tr>\n",
       "      <th>Parental_Involvement</th>\n",
       "      <td>3</td>\n",
       "    </tr>\n",
       "    <tr>\n",
       "      <th>Peer_Influence</th>\n",
       "      <td>3</td>\n",
       "    </tr>\n",
       "    <tr>\n",
       "      <th>Family_Income</th>\n",
       "      <td>3</td>\n",
       "    </tr>\n",
       "    <tr>\n",
       "      <th>Extracurricular_Activities</th>\n",
       "      <td>2</td>\n",
       "    </tr>\n",
       "    <tr>\n",
       "      <th>Internet_Access</th>\n",
       "      <td>2</td>\n",
       "    </tr>\n",
       "    <tr>\n",
       "      <th>School_Type</th>\n",
       "      <td>2</td>\n",
       "    </tr>\n",
       "    <tr>\n",
       "      <th>Learning_Disabilities</th>\n",
       "      <td>2</td>\n",
       "    </tr>\n",
       "    <tr>\n",
       "      <th>Gender</th>\n",
       "      <td>2</td>\n",
       "    </tr>\n",
       "  </tbody>\n",
       "</table>\n",
       "</div>"
      ],
      "text/plain": [
       "                            unique_values\n",
       "Previous_Scores                        51\n",
       "Exam_Score                             45\n",
       "Attendance                             41\n",
       "Hours_Studied                          41\n",
       "Tutoring_Sessions                       9\n",
       "Sleep_Hours                             7\n",
       "Physical_Activity                       7\n",
       "Teacher_Quality                         4\n",
       "Parental_Education_Level                4\n",
       "Distance_from_Home                      4\n",
       "Access_to_Resources                     3\n",
       "Motivation_Level                        3\n",
       "Parental_Involvement                    3\n",
       "Peer_Influence                          3\n",
       "Family_Income                           3\n",
       "Extracurricular_Activities              2\n",
       "Internet_Access                         2\n",
       "School_Type                             2\n",
       "Learning_Disabilities                   2\n",
       "Gender                                  2"
      ]
     },
     "execution_count": 22,
     "metadata": {},
     "output_type": "execute_result"
    }
   ],
   "source": [
    "unique_table"
   ]
  },
  {
   "cell_type": "code",
   "execution_count": 23,
   "id": "40db964c",
   "metadata": {},
   "outputs": [],
   "source": [
    "# %% 5) Basic summaries\n",
    "numeric_cols = df.select_dtypes(include=[np.number]).columns.tolist()\n",
    "categorical_cols = df.select_dtypes(exclude=[np.number]).columns.tolist()"
   ]
  },
  {
   "cell_type": "code",
   "execution_count": 24,
   "id": "679f996f",
   "metadata": {},
   "outputs": [
    {
     "data": {
      "text/plain": [
       "(['Hours_Studied',\n",
       "  'Attendance',\n",
       "  'Sleep_Hours',\n",
       "  'Previous_Scores',\n",
       "  'Tutoring_Sessions',\n",
       "  'Physical_Activity',\n",
       "  'Exam_Score'],\n",
       " ['Parental_Involvement',\n",
       "  'Access_to_Resources',\n",
       "  'Extracurricular_Activities',\n",
       "  'Motivation_Level',\n",
       "  'Internet_Access',\n",
       "  'Family_Income',\n",
       "  'Teacher_Quality',\n",
       "  'School_Type',\n",
       "  'Peer_Influence',\n",
       "  'Learning_Disabilities',\n",
       "  'Parental_Education_Level',\n",
       "  'Distance_from_Home',\n",
       "  'Gender'])"
      ]
     },
     "execution_count": 24,
     "metadata": {},
     "output_type": "execute_result"
    }
   ],
   "source": [
    "numeric_cols, categorical_cols"
   ]
  },
  {
   "cell_type": "code",
   "execution_count": 25,
   "id": "c0330d2f",
   "metadata": {},
   "outputs": [],
   "source": [
    "# %% 6) Correlations (numeric only)\n",
    "if numeric_cols:\n",
    "    corr_pearson = df[numeric_cols].corr(method=\"pearson\")\n",
    "    corr_spearman = df[numeric_cols].corr(method=\"spearman\")\n",
    "    \n",
    "else:\n",
    "    corr_pearson = pd.DataFrame()\n",
    "    corr_spearman = pd.DataFrame()"
   ]
  },
  {
   "cell_type": "code",
   "execution_count": 27,
   "id": "34a03939",
   "metadata": {},
   "outputs": [
    {
     "data": {
      "image/png": "[encoded data removed]",
      "text/plain": [
       "<Figure size 640x480 with 2 Axes>"
      ]
     },
     "metadata": {},
     "output_type": "display_data"
    },
    {
     "data": {
      "image/png": "[encoded data removed]",
      "text/plain": [
       "<Figure size 640x480 with 2 Axes>"
      ]
     },
     "metadata": {},
     "output_type": "display_data"
    }
   ],
   "source": [
    "# %% 7) Heatmap helper (matplotlib only, no seaborn)\n",
    "def plot_heatmap(matrix: pd.DataFrame, title: str):\n",
    "    if matrix.empty:\n",
    "        print(f\"[skip] Empty matrix for: {title}\")\n",
    "        return\n",
    "    \n",
    "    plt.figure()\n",
    "    plt.imshow(matrix.values, aspect=\"auto\", cmap=\"viridis\")\n",
    "    plt.title(title)\n",
    "    plt.xticks(ticks=np.arange(matrix.shape[1]), labels=matrix.columns, rotation=90)\n",
    "    plt.yticks(ticks=np.arange(matrix.shape[0]), labels=matrix.index)\n",
    "    plt.colorbar()\n",
    "\n",
    "    # 🔹 Додаємо числа в центр клітинок\n",
    "    for i in range(matrix.shape[0]):       # рядки\n",
    "        for j in range(matrix.shape[1]):   # стовпці\n",
    "            value = matrix.iat[i, j]\n",
    "            plt.text(j, i, f\"{value:.2f}\", ha='center', va='center', color='white', fontsize=8)\n",
    "\n",
    "    plt.tight_layout()\n",
    "    plt.show()\n",
    "\n",
    "plot_heatmap(corr_pearson, \"Correlation Heatmap (Pearson)\")\n",
    "plot_heatmap(corr_spearman, \"Correlation Heatmap (Spearman)\")\n"
   ]
  },
  {
   "cell_type": "code",
   "execution_count": 28,
   "id": "12be628f",
   "metadata": {},
   "outputs": [],
   "source": [
    "def detect_outliers(df: pd.DataFrame, method: str = \"IQR\", visualize: bool = True):\n",
    "    \"\"\"\n",
    "    Виявляє викиди у всіх числових стовпцях DataFrame.\n",
    "    method: \"IQR\" або \"Z-score\"\n",
    "    visualize: якщо True — будує boxplot для кожного стовпця\n",
    "    \"\"\"\n",
    "\n",
    "    numeric_cols = df.select_dtypes(include=[np.number]).columns\n",
    "    outlier_indices = {}\n",
    "\n",
    "    for col in numeric_cols:\n",
    "        data = df[col].dropna()\n",
    "\n",
    "        if method == \"IQR\":\n",
    "            Q1 = np.percentile(data, 25)\n",
    "            Q3 = np.percentile(data, 75)\n",
    "            IQR = Q3 - Q1\n",
    "            lower = Q1 - 1.5 * IQR\n",
    "            upper = Q3 + 1.5 * IQR\n",
    "            outliers = df[(df[col] < lower) | (df[col] > upper)].index\n",
    "\n",
    "        elif method == \"Z-score\":\n",
    "            mean = np.mean(data)\n",
    "            std = np.std(data)\n",
    "            z_scores = (data - mean) / std\n",
    "            outliers = df[np.abs(z_scores) > 3].index\n",
    "\n",
    "        else:\n",
    "            raise ValueError(\"method має бути 'IQR' або 'Z-score'\")\n",
    "\n",
    "        outlier_indices[col] = list(outliers)\n",
    "\n",
    "        if visualize:\n",
    "            plt.figure(figsize=(6, 2))\n",
    "            sns.boxplot(x=df[col], color=\"skyblue\")\n",
    "            plt.title(f\"Boxplot: {col}\")\n",
    "            plt.tight_layout()\n",
    "            plt.show()\n",
    "\n",
    "        print(f\"🔹 {col}: знайдено {len(outliers)} викидів\")\n",
    "\n",
    "    return outlier_indices"
   ]
  },
  {
   "cell_type": "code",
   "execution_count": 43,
   "id": "051cd6ea",
   "metadata": {},
   "outputs": [
    {
     "data": {
      "image/png": "[encoded data removed]",
      "text/plain": [
       "<Figure size 600x200 with 1 Axes>"
      ]
     },
     "metadata": {},
     "output_type": "display_data"
    },
    {
     "name": "stdout",
     "output_type": "stream",
     "text": [
      "🔹 Hours_Studied: знайдено 25 викидів\n"
     ]
    },
    {
     "data": {
      "image/png": "[encoded data removed]",
      "text/plain": [
       "<Figure size 600x200 with 1 Axes>"
      ]
     },
     "metadata": {},
     "output_type": "display_data"
    },
    {
     "name": "stdout",
     "output_type": "stream",
     "text": [
      "🔹 Attendance: знайдено 0 викидів\n"
     ]
    },
    {
     "data": {
      "image/png": "[encoded data removed]",
      "text/plain": [
       "<Figure size 600x200 with 1 Axes>"
      ]
     },
     "metadata": {},
     "output_type": "display_data"
    },
    {
     "name": "stdout",
     "output_type": "stream",
     "text": [
      "🔹 Sleep_Hours: знайдено 0 викидів\n"
     ]
    },
    {
     "data": {
      "image/png": "[encoded data removed]",
      "text/plain": [
       "<Figure size 600x200 with 1 Axes>"
      ]
     },
     "metadata": {},
     "output_type": "display_data"
    },
    {
     "name": "stdout",
     "output_type": "stream",
     "text": [
      "🔹 Previous_Scores: знайдено 0 викидів\n"
     ]
    },
    {
     "data": {
      "image/png": "[encoded data removed]",
      "text/plain": [
       "<Figure size 600x200 with 1 Axes>"
      ]
     },
     "metadata": {},
     "output_type": "display_data"
    },
    {
     "name": "stdout",
     "output_type": "stream",
     "text": [
      "🔹 Tutoring_Sessions: знайдено 26 викидів\n"
     ]
    },
    {
     "data": {
      "image/png": "[encoded data removed]",
      "text/plain": [
       "<Figure size 600x200 with 1 Axes>"
      ]
     },
     "metadata": {},
     "output_type": "display_data"
    },
    {
     "name": "stdout",
     "output_type": "stream",
     "text": [
      "🔹 Physical_Activity: знайдено 0 викидів\n"
     ]
    },
    {
     "data": {
      "image/png": "[encoded data removed]",
      "text/plain": [
       "<Figure size 600x200 with 1 Axes>"
      ]
     },
     "metadata": {},
     "output_type": "display_data"
    },
    {
     "name": "stdout",
     "output_type": "stream",
     "text": [
      "🔹 Exam_Score: знайдено 52 викидів\n",
      "\n",
      "Індекси викидів по кожному стовпцю:\n",
      "Hours_Studied: [209, 262, 478, 1591, 1615, 1957, 1971, 2024, 2305, 2506, 2521, 2895, 2947, 3454, 3716, 3982, 4198, 4725, 4779, 4870, 4997, 5157, 5224, 5796, 5846]\n",
      "Attendance: []\n",
      "Sleep_Hours: []\n",
      "Previous_Scores: []\n",
      "Tutoring_Sessions: [679, 724, 1462, 1548, 1848, 2040, 2198, 2231, 2237, 2265, 2346, 2699, 2718, 3388, 3617, 3880, 3894, 4009, 4091, 4247, 4697, 4799, 5680, 5855, 6061, 6485]\n",
      "Physical_Activity: []\n",
      "Exam_Score: [94, 113, 217, 404, 529, 558, 560, 637, 770, 836, 919, 1099, 1101, 1107, 1109, 1351, 1525, 1607, 1844, 1863, 1957, 2076, 2292, 2421, 2425, 2513, 2595, 2687, 2904, 2954, 3124, 3141, 3364, 3457, 3579, 3924, 3932, 4192, 4254, 4297, 4355, 4405, 4531, 4583, 4666, 4779, 5125, 5966, 5989, 6347, 6393, 6522]\n"
     ]
    }
   ],
   "source": [
    "outliers = detect_outliers(df, method=\"Z-score\", visualize=True)\n",
    "\n",
    "print(\"\\nІндекси викидів по кожному стовпцю:\")\n",
    "for col, idx in outliers.items():\n",
    "    print(f\"{col}: {idx}\")"
   ]
  },
  {
   "cell_type": "code",
   "execution_count": 46,
   "id": "af2e5b45",
   "metadata": {},
   "outputs": [
    {
     "data": {
      "text/plain": [
       "[5125,\n",
       " 1548,\n",
       " 529,\n",
       " 2076,\n",
       " 3617,\n",
       " 2595,\n",
       " 5157,\n",
       " 558,\n",
       " 5680,\n",
       " 560,\n",
       " 3124,\n",
       " 1591,\n",
       " 4666,\n",
       " 3141,\n",
       " 1607,\n",
       " 1099,\n",
       " 1101,\n",
       " 1615,\n",
       " 1107,\n",
       " 1109,\n",
       " 3579,\n",
       " 4697,\n",
       " 94,\n",
       " 4192,\n",
       " 4198,\n",
       " 5224,\n",
       " 113,\n",
       " 4725,\n",
       " 637,\n",
       " 2687,\n",
       " 3716,\n",
       " 2699,\n",
       " 2198,\n",
       " 4247,\n",
       " 2718,\n",
       " 4254,\n",
       " 5796,\n",
       " 679,\n",
       " 4779,\n",
       " 2231,\n",
       " 2237,\n",
       " 4799,\n",
       " 4297,\n",
       " 6347,\n",
       " 209,\n",
       " 724,\n",
       " 5846,\n",
       " 2265,\n",
       " 217,\n",
       " 5855,\n",
       " 2292,\n",
       " 6393,\n",
       " 2305,\n",
       " 770,\n",
       " 4355,\n",
       " 262,\n",
       " 4870,\n",
       " 3364,\n",
       " 3880,\n",
       " 2346,\n",
       " 1844,\n",
       " 4405,\n",
       " 3894,\n",
       " 1848,\n",
       " 3388,\n",
       " 836,\n",
       " 1351,\n",
       " 1863,\n",
       " 5966,\n",
       " 2895,\n",
       " 3924,\n",
       " 6485,\n",
       " 2904,\n",
       " 3932,\n",
       " 5989,\n",
       " 2421,\n",
       " 2425,\n",
       " 6522,\n",
       " 3454,\n",
       " 3457,\n",
       " 2947,\n",
       " 4997,\n",
       " 2954,\n",
       " 3982,\n",
       " 404,\n",
       " 919,\n",
       " 1957,\n",
       " 4009,\n",
       " 6061,\n",
       " 1971,\n",
       " 4531,\n",
       " 1462,\n",
       " 2506,\n",
       " 2513,\n",
       " 2521,\n",
       " 478,\n",
       " 4583,\n",
       " 2024,\n",
       " 1525,\n",
       " 2040,\n",
       " 4091]"
      ]
     },
     "execution_count": 46,
     "metadata": {},
     "output_type": "execute_result"
    }
   ],
   "source": [
    "out1 = [209, 262, 478, 1591, 1615, 1957, 1971, 2024, 2305, 2506, 2521, 2895, 2947, 3454, 3716, 3982, 4198, 4725, 4779, 4870, 4997, 5157, 5224, 5796, 5846]\n",
    "out2 = [679, 724, 1462, 1548, 1848, 2040, 2198, 2231, 2237, 2265, 2346, 2699, 2718, 3388, 3617, 3880, 3894, 4009, 4091, 4247, 4697, 4799, 5680, 5855, 6061, 6485]\n",
    "out3 = [94, 113, 217, 404, 529, 558, 560, 637, 770, 836, 919, 1099, 1101, 1107, 1109, 1351, 1525, 1607, 1844, 1863, 1957, 2076, 2292, 2421, 2425, 2513, 2595, 2687, 2904, 2954, 3124, 3141, 3364, 3457, 3579, 3924, 3932, 4192, 4254, 4297, 4355, 4405, 4531, 4583, 4666, 4779, 5125, 5966, 5989, 6347, 6393, 6522]\n",
    "\n",
    "outs = list(set(out1 + out2 + out3))\n",
    "\n",
    "outs"
   ]
  },
  {
   "cell_type": "code",
   "execution_count": 47,
   "id": "73351735",
   "metadata": {},
   "outputs": [],
   "source": [
    "df2 = df.drop(index=outs).reset_index(drop=True)"
   ]
  },
  {
   "cell_type": "code",
   "execution_count": 49,
   "id": "bdb52a60",
   "metadata": {},
   "outputs": [
    {
     "name": "stdout",
     "output_type": "stream",
     "text": [
      "<class 'pandas.core.frame.DataFrame'>\n",
      "RangeIndex: 6506 entries, 0 to 6505\n",
      "Data columns (total 20 columns):\n",
      " #   Column                      Non-Null Count  Dtype \n",
      "---  ------                      --------------  ----- \n",
      " 0   Hours_Studied               6506 non-null   int64 \n",
      " 1   Attendance                  6506 non-null   int64 \n",
      " 2   Parental_Involvement        6506 non-null   object\n",
      " 3   Access_to_Resources         6506 non-null   object\n",
      " 4   Extracurricular_Activities  6506 non-null   object\n",
      " 5   Sleep_Hours                 6506 non-null   int64 \n",
      " 6   Previous_Scores             6506 non-null   int64 \n",
      " 7   Motivation_Level            6506 non-null   object\n",
      " 8   Internet_Access             6506 non-null   object\n",
      " 9   Tutoring_Sessions           6506 non-null   int64 \n",
      " 10  Family_Income               6506 non-null   object\n",
      " 11  Teacher_Quality             6429 non-null   object\n",
      " 12  School_Type                 6506 non-null   object\n",
      " 13  Peer_Influence              6506 non-null   object\n",
      " 14  Physical_Activity           6506 non-null   int64 \n",
      " 15  Learning_Disabilities       6506 non-null   object\n",
      " 16  Parental_Education_Level    6418 non-null   object\n",
      " 17  Distance_from_Home          6439 non-null   object\n",
      " 18  Gender                      6506 non-null   object\n",
      " 19  Exam_Score                  6506 non-null   int64 \n",
      "dtypes: int64(7), object(13)\n",
      "memory usage: 1016.7+ KB\n"
     ]
    }
   ],
   "source": [
    "df2.info()"
   ]
  },
  {
   "cell_type": "code",
   "execution_count": 50,
   "id": "b35afec1",
   "metadata": {},
   "outputs": [
    {
     "data": {
      "text/html": [
       "<div>\n",
       "<style scoped>\n",
       "    .dataframe tbody tr th:only-of-type {\n",
       "        vertical-align: middle;\n",
       "    }\n",
       "\n",
       "    .dataframe tbody tr th {\n",
       "        vertical-align: top;\n",
       "    }\n",
       "\n",
       "    .dataframe thead th {\n",
       "        text-align: right;\n",
       "    }\n",
       "</style>\n",
       "<table border=\"1\" class=\"dataframe\">\n",
       "  <thead>\n",
       "    <tr style=\"text-align: right;\">\n",
       "      <th></th>\n",
       "      <th>Hours_Studied</th>\n",
       "      <th>Attendance</th>\n",
       "      <th>Sleep_Hours</th>\n",
       "      <th>Previous_Scores</th>\n",
       "      <th>Tutoring_Sessions</th>\n",
       "      <th>Physical_Activity</th>\n",
       "      <th>Exam_Score</th>\n",
       "    </tr>\n",
       "  </thead>\n",
       "  <tbody>\n",
       "    <tr>\n",
       "      <th>count</th>\n",
       "      <td>6506.000000</td>\n",
       "      <td>6506.000000</td>\n",
       "      <td>6506.000000</td>\n",
       "      <td>6506.000000</td>\n",
       "      <td>6506.000000</td>\n",
       "      <td>6506.000000</td>\n",
       "      <td>6506.000000</td>\n",
       "    </tr>\n",
       "    <tr>\n",
       "      <th>mean</th>\n",
       "      <td>19.945589</td>\n",
       "      <td>79.956502</td>\n",
       "      <td>7.031817</td>\n",
       "      <td>75.051645</td>\n",
       "      <td>1.473870</td>\n",
       "      <td>2.968952</td>\n",
       "      <td>67.042883</td>\n",
       "    </tr>\n",
       "    <tr>\n",
       "      <th>std</th>\n",
       "      <td>5.878408</td>\n",
       "      <td>11.540209</td>\n",
       "      <td>1.467056</td>\n",
       "      <td>14.387867</td>\n",
       "      <td>1.195306</td>\n",
       "      <td>1.028998</td>\n",
       "      <td>3.312127</td>\n",
       "    </tr>\n",
       "    <tr>\n",
       "      <th>min</th>\n",
       "      <td>3.000000</td>\n",
       "      <td>60.000000</td>\n",
       "      <td>4.000000</td>\n",
       "      <td>50.000000</td>\n",
       "      <td>0.000000</td>\n",
       "      <td>0.000000</td>\n",
       "      <td>56.000000</td>\n",
       "    </tr>\n",
       "    <tr>\n",
       "      <th>25%</th>\n",
       "      <td>16.000000</td>\n",
       "      <td>70.000000</td>\n",
       "      <td>6.000000</td>\n",
       "      <td>63.000000</td>\n",
       "      <td>1.000000</td>\n",
       "      <td>2.000000</td>\n",
       "      <td>65.000000</td>\n",
       "    </tr>\n",
       "    <tr>\n",
       "      <th>50%</th>\n",
       "      <td>20.000000</td>\n",
       "      <td>80.000000</td>\n",
       "      <td>7.000000</td>\n",
       "      <td>75.000000</td>\n",
       "      <td>1.000000</td>\n",
       "      <td>3.000000</td>\n",
       "      <td>67.000000</td>\n",
       "    </tr>\n",
       "    <tr>\n",
       "      <th>75%</th>\n",
       "      <td>24.000000</td>\n",
       "      <td>90.000000</td>\n",
       "      <td>8.000000</td>\n",
       "      <td>87.000000</td>\n",
       "      <td>2.000000</td>\n",
       "      <td>4.000000</td>\n",
       "      <td>69.000000</td>\n",
       "    </tr>\n",
       "    <tr>\n",
       "      <th>max</th>\n",
       "      <td>37.000000</td>\n",
       "      <td>100.000000</td>\n",
       "      <td>10.000000</td>\n",
       "      <td>100.000000</td>\n",
       "      <td>5.000000</td>\n",
       "      <td>6.000000</td>\n",
       "      <td>78.000000</td>\n",
       "    </tr>\n",
       "  </tbody>\n",
       "</table>\n",
       "</div>"
      ],
      "text/plain": [
       "       Hours_Studied   Attendance  Sleep_Hours  Previous_Scores  \\\n",
       "count    6506.000000  6506.000000  6506.000000      6506.000000   \n",
       "mean       19.945589    79.956502     7.031817        75.051645   \n",
       "std         5.878408    11.540209     1.467056        14.387867   \n",
       "min         3.000000    60.000000     4.000000        50.000000   \n",
       "25%        16.000000    70.000000     6.000000        63.000000   \n",
       "50%        20.000000    80.000000     7.000000        75.000000   \n",
       "75%        24.000000    90.000000     8.000000        87.000000   \n",
       "max        37.000000   100.000000    10.000000       100.000000   \n",
       "\n",
       "       Tutoring_Sessions  Physical_Activity   Exam_Score  \n",
       "count        6506.000000        6506.000000  6506.000000  \n",
       "mean            1.473870           2.968952    67.042883  \n",
       "std             1.195306           1.028998     3.312127  \n",
       "min             0.000000           0.000000    56.000000  \n",
       "25%             1.000000           2.000000    65.000000  \n",
       "50%             1.000000           3.000000    67.000000  \n",
       "75%             2.000000           4.000000    69.000000  \n",
       "max             5.000000           6.000000    78.000000  "
      ]
     },
     "execution_count": 50,
     "metadata": {},
     "output_type": "execute_result"
    }
   ],
   "source": [
    "df2.describe()"
   ]
  },
  {
   "cell_type": "markdown",
   "id": "4bb48c2c",
   "metadata": {},
   "source": []
  },
  {
   "cell_type": "code",
   "execution_count": null,
   "id": "1df50d70",
   "metadata": {},
   "outputs": [],
   "source": [
    "\n",
    "df.loc[out1,'Hours_Studied']\n"
   ]
  },
  {
   "cell_type": "code",
   "execution_count": 54,
   "id": "16a227d0",
   "metadata": {},
   "outputs": [
    {
     "name": "stdout",
     "output_type": "stream",
     "text": [
      "Parental_Involvement\n",
      "Medium    3362\n",
      "High      1908\n",
      "Low       1337\n",
      "Name: count, dtype: int64\n",
      "Access_to_Resources\n",
      "Medium    3319\n",
      "High      1975\n",
      "Low       1313\n",
      "Name: count, dtype: int64\n",
      "Extracurricular_Activities\n",
      "Yes    3938\n",
      "No     2669\n",
      "Name: count, dtype: int64\n",
      "Motivation_Level\n",
      "Medium    3351\n",
      "Low       1937\n",
      "High      1319\n",
      "Name: count, dtype: int64\n",
      "Internet_Access\n",
      "Yes    6108\n",
      "No      499\n",
      "Name: count, dtype: int64\n",
      "Family_Income\n",
      "Low       2672\n",
      "Medium    2666\n",
      "High      1269\n",
      "Name: count, dtype: int64\n",
      "Teacher_Quality\n",
      "Medium    3925\n",
      "High      1947\n",
      "Low        657\n",
      "Name: count, dtype: int64\n",
      "School_Type\n",
      "Public     4598\n",
      "Private    2009\n",
      "Name: count, dtype: int64\n",
      "Peer_Influence\n",
      "Positive    2638\n",
      "Neutral     2592\n",
      "Negative    1377\n",
      "Name: count, dtype: int64\n",
      "Learning_Disabilities\n",
      "No     5912\n",
      "Yes     695\n",
      "Name: count, dtype: int64\n",
      "Parental_Education_Level\n",
      "High School     3223\n",
      "College         1989\n",
      "Postgraduate    1305\n",
      "Name: count, dtype: int64\n",
      "Distance_from_Home\n",
      "Near        3884\n",
      "Moderate    1998\n",
      "Far          658\n",
      "Name: count, dtype: int64\n",
      "Gender\n",
      "Male      3814\n",
      "Female    2793\n",
      "Name: count, dtype: int64\n"
     ]
    }
   ],
   "source": [
    "for col in  categorical_cols:\n",
    "    print(df[col].value_counts())"
   ]
  }
 ],
 "metadata": {
  "kernelspec": {
   "display_name": "Python 3",
   "language": "python",
   "name": "python3"
  },
  "language_info": {
   "codemirror_mode": {
    "name": "ipython",
    "version": 3
   },
   "file_extension": ".py",
   "mimetype": "text/x-python",
   "name": "python",
   "nbconvert_exporter": "python",
   "pygments_lexer": "ipython3",
   "version": "3.11.9"
  }
 },
 "nbformat": 4,
 "nbformat_minor": 5
}
